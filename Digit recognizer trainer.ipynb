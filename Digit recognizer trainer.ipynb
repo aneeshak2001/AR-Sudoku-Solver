{
 "cells": [
  {
   "cell_type": "code",
   "execution_count": 1,
   "metadata": {
    "scrolled": true
   },
   "outputs": [
    {
     "name": "stdout",
     "output_type": "stream",
     "text": [
      "Found 4641 images belonging to 9 classes.\n",
      "Found 516 images belonging to 9 classes.\n",
      "Batch shape=(32, 28, 28, 1), min=0.000, max=249.000\n"
     ]
    }
   ],
   "source": [
    "# Importing the required Keras modules containing model and layers\n",
    "from tensorflow.keras.models import Sequential\n",
    "from tensorflow.keras.layers import Dense, Conv2D, Dropout, Flatten, MaxPooling2D\n",
    "from tensorflow.keras import regularizers\n",
    "from tensorflow import keras\n",
    "\n",
    "from tensorflow.keras.preprocessing.image import ImageDataGenerator\n",
    "# create generator\n",
    "datagen = ImageDataGenerator()\n",
    "\n",
    "train_it = datagen.flow_from_directory('training_data/', class_mode='categorical',target_size=(28, 28),color_mode='grayscale',batch_size=32,shuffle=True,seed=0)\n",
    "test_it =  datagen.flow_from_directory('testing_data/', class_mode='categorical',target_size=(28, 28),color_mode='grayscale', batch_size=32,shuffle=True,seed=0)\n",
    "# confirm the iterator works\n",
    "batchX, batchy = train_it.next()\n",
    "\n",
    "batchX_test, batchy_test = test_it.next()\n",
    "print('Batch shape=%s, min=%.3f, max=%.3f' % (batchX.shape, batchX.min(), batchX.max()))"
   ]
  },
  {
   "cell_type": "code",
   "execution_count": 2,
   "metadata": {},
   "outputs": [],
   "source": [
    "import tensorflow as tf\n",
    "#(x_train, y_train), (x_test, y_test) = tf.keras.datasets.mnist.load_data()\n",
    "import matplotlib.pyplot as plt\n",
    "import matplotlib.image as mpimg\n",
    "\n",
    "# Reshaping the array to 4-dims so that it can work with the Keras API\n",
    "#x_train = x_train.reshape(x_train.shape[0], 28, 28, 1)\n",
    "#x_test = x_test.reshape(x_test.shape[0], 28, 28, 1)\n",
    "#input_shape = (28, 28, 1)\n",
    "\n",
    "# Making sure that the values are float so that we can get decimal points after division\n",
    "#x_train = x_train.astype('float32')\n",
    "#x_test = x_test.astype('float32')\n",
    "\n",
    "# Normalizing the RGB codes by dividing it to the max RGB value.\n",
    "#x_train /= 255\n",
    "#x_test /= 255\n",
    "#??flow_from_directory"
   ]
  },
  {
   "cell_type": "code",
   "execution_count": 3,
   "metadata": {},
   "outputs": [
    {
     "name": "stdout",
     "output_type": "stream",
     "text": [
      "[0. 0. 1. 0. 0. 0. 0. 0. 0.]\n"
     ]
    },
    {
     "data": {
      "image/png": "[encoded data removed]",
      "text/plain": [
       "<Figure size 432x288 with 1 Axes>"
      ]
     },
     "metadata": {
      "needs_background": "light"
     },
     "output_type": "display_data"
    }
   ],
   "source": [
    "plt.imshow(batchX[12])\n",
    "print(batchy[12])"
   ]
  },
  {
   "cell_type": "code",
   "execution_count": null,
   "metadata": {},
   "outputs": [],
   "source": [
    "# Creating a Sequential Model and adding the layers\n",
    "\n",
    "model = Sequential()\n",
    "model.add(Conv2D(32, (3, 3), activation='relu', kernel_initializer='he_uniform', input_shape=(28, 28, 1)))\n",
    "\n",
    "model.add(MaxPooling2D((2, 2)))\n",
    "model.add(Conv2D(64, (3, 3), activation='relu', kernel_initializer='he_uniform'))\n",
    "model.add(Conv2D(64, (3, 3), activation='relu', kernel_initializer='he_uniform'))\n",
    "model.add(MaxPooling2D((2, 2)))\n",
    "model.add(Flatten())\n",
    "model.add(Dense(50, activation='relu', kernel_initializer='he_uniform'))\n",
    "model.add(Dense(9, activation='softmax'))"
   ]
  },
  {
   "cell_type": "code",
   "execution_count": 4,
   "metadata": {},
   "outputs": [],
   "source": [
    "model = Sequential([\n",
    "    Conv2D(16, 3, \n",
    "           padding='same',\n",
    "           activation='relu',\n",
    "           kernel_regularizer=regularizers.l2(0.0001),\n",
    "           input_shape=(28, 28 , 1)),\n",
    "    MaxPooling2D(),\n",
    "    Dropout(0.2),\n",
    "    Flatten(),\n",
    "    Dense(\n",
    "        100,\n",
    "        activation='relu',\n",
    "        kernel_regularizer=regularizers.l2(0.0001)\n",
    "    ),\n",
    "    Dropout(0.2),\n",
    "    Dense(9, activation='softmax')\n",
    "])"
   ]
  },
  {
   "cell_type": "code",
   "execution_count": 5,
   "metadata": {},
   "outputs": [
    {
     "name": "stdout",
     "output_type": "stream",
     "text": [
      "Epoch 1/100\n",
      "146/146 [==============================] - 15s 100ms/step - loss: 18.6545 - accuracy: 0.2720\n",
      "Epoch 2/100\n",
      "146/146 [==============================] - 15s 105ms/step - loss: 1.2154 - accuracy: 0.6063\n",
      "Epoch 3/100\n",
      "146/146 [==============================] - 15s 102ms/step - loss: 0.7698 - accuracy: 0.7337\n",
      "Epoch 4/100\n",
      "146/146 [==============================] - 16s 110ms/step - loss: 0.6004 - accuracy: 0.7766\n",
      "Epoch 5/100\n",
      "146/146 [==============================] - 15s 101ms/step - loss: 0.4970 - accuracy: 0.8213\n",
      "Epoch 6/100\n",
      "146/146 [==============================] - 14s 93ms/step - loss: 0.3895 - accuracy: 0.8618\n",
      "Epoch 7/100\n",
      "146/146 [==============================] - 14s 96ms/step - loss: 0.4327 - accuracy: 0.8473\n",
      "Epoch 8/100\n",
      "146/146 [==============================] - 14s 94ms/step - loss: 0.3587 - accuracy: 0.8678\n",
      "Epoch 9/100\n",
      "146/146 [==============================] - 14s 95ms/step - loss: 0.2577 - accuracy: 0.9261\n",
      "Epoch 10/100\n",
      "146/146 [==============================] - 13s 90ms/step - loss: 0.1914 - accuracy: 0.9360\n",
      "Epoch 11/100\n",
      "146/146 [==============================] - 14s 96ms/step - loss: 0.1573 - accuracy: 0.9476\n",
      "Epoch 12/100\n",
      "146/146 [==============================] - 17s 114ms/step - loss: 0.1500 - accuracy: 0.9524\n",
      "Epoch 13/100\n",
      "146/146 [==============================] - 17s 113ms/step - loss: 0.1388 - accuracy: 0.9488\n",
      "Epoch 14/100\n",
      "146/146 [==============================] - 13s 92ms/step - loss: 0.1184 - accuracy: 0.9664\n",
      "Epoch 15/100\n",
      "146/146 [==============================] - 13s 89ms/step - loss: 0.1402 - accuracy: 0.9580\n",
      "Epoch 16/100\n",
      "146/146 [==============================] - 14s 95ms/step - loss: 0.1043 - accuracy: 0.9667\n",
      "Epoch 17/100\n",
      "146/146 [==============================] - 13s 92ms/step - loss: 0.1278 - accuracy: 0.9599\n",
      "Epoch 18/100\n",
      "146/146 [==============================] - 15s 99ms/step - loss: 0.0978 - accuracy: 0.9680\n",
      "Epoch 19/100\n",
      "146/146 [==============================] - 15s 104ms/step - loss: 0.1235 - accuracy: 0.9686\n",
      "Epoch 20/100\n",
      "146/146 [==============================] - 15s 105ms/step - loss: 0.1015 - accuracy: 0.9685\n",
      "Epoch 21/100\n",
      "146/146 [==============================] - 16s 111ms/step - loss: 0.1061 - accuracy: 0.9693\n",
      "Epoch 22/100\n",
      "146/146 [==============================] - 16s 106ms/step - loss: 0.0902 - accuracy: 0.9725\n",
      "Epoch 23/100\n",
      "146/146 [==============================] - 16s 107ms/step - loss: 0.1124 - accuracy: 0.9713\n",
      "Epoch 24/100\n",
      "146/146 [==============================] - 16s 108ms/step - loss: 0.0819 - accuracy: 0.9728\n",
      "Epoch 25/100\n",
      "146/146 [==============================] - 16s 106ms/step - loss: 0.0917 - accuracy: 0.9726\n",
      "Epoch 26/100\n",
      "146/146 [==============================] - 16s 113ms/step - loss: 0.1163 - accuracy: 0.9679\n",
      "Epoch 27/100\n",
      "146/146 [==============================] - 16s 108ms/step - loss: 0.0974 - accuracy: 0.9711\n",
      "Epoch 28/100\n",
      "146/146 [==============================] - 19s 129ms/step - loss: 0.0912 - accuracy: 0.9684\n",
      "Epoch 29/100\n",
      "146/146 [==============================] - 17s 115ms/step - loss: 0.0957 - accuracy: 0.9714\n",
      "Epoch 30/100\n",
      "146/146 [==============================] - 17s 116ms/step - loss: 0.0919 - accuracy: 0.9752\n",
      "Epoch 31/100\n",
      "146/146 [==============================] - 16s 107ms/step - loss: 0.0873 - accuracy: 0.9774\n",
      "Epoch 32/100\n",
      "146/146 [==============================] - 15s 102ms/step - loss: 0.0855 - accuracy: 0.9793\n",
      "Epoch 33/100\n",
      "146/146 [==============================] - 12s 83ms/step - loss: 0.0927 - accuracy: 0.9710\n",
      "Epoch 34/100\n",
      "146/146 [==============================] - 13s 90ms/step - loss: 0.0991 - accuracy: 0.9752\n",
      "Epoch 35/100\n",
      "146/146 [==============================] - 16s 107ms/step - loss: 0.0696 - accuracy: 0.9825\n",
      "Epoch 36/100\n",
      "146/146 [==============================] - 16s 108ms/step - loss: 0.0692 - accuracy: 0.9848\n",
      "Epoch 37/100\n",
      "146/146 [==============================] - 16s 106ms/step - loss: 0.0679 - accuracy: 0.9815\n",
      "Epoch 38/100\n",
      "146/146 [==============================] - 15s 99ms/step - loss: 0.0703 - accuracy: 0.9846\n",
      "Epoch 39/100\n",
      "146/146 [==============================] - 14s 98ms/step - loss: 0.0585 - accuracy: 0.9869\n",
      "Epoch 40/100\n",
      "146/146 [==============================] - 12s 82ms/step - loss: 0.1847 - accuracy: 0.9554\n",
      "Epoch 41/100\n",
      "146/146 [==============================] - 14s 95ms/step - loss: 0.0966 - accuracy: 0.9796\n",
      "Epoch 42/100\n",
      "146/146 [==============================] - 13s 90ms/step - loss: 0.0762 - accuracy: 0.9834\n",
      "Epoch 43/100\n",
      "146/146 [==============================] - 15s 103ms/step - loss: 0.0609 - accuracy: 0.9870\n",
      "Epoch 44/100\n",
      "146/146 [==============================] - 15s 104ms/step - loss: 0.0551 - accuracy: 0.9897\n",
      "Epoch 45/100\n",
      "146/146 [==============================] - 16s 107ms/step - loss: 0.0561 - accuracy: 0.9944\n",
      "Epoch 46/100\n",
      "146/146 [==============================] - 13s 90ms/step - loss: 0.0716 - accuracy: 0.9879\n",
      "Epoch 47/100\n",
      "146/146 [==============================] - 14s 98ms/step - loss: 0.0488 - accuracy: 0.9923\n",
      "Epoch 48/100\n",
      "146/146 [==============================] - 15s 102ms/step - loss: 0.0477 - accuracy: 0.9938\n",
      "Epoch 49/100\n",
      "146/146 [==============================] - 14s 95ms/step - loss: 0.0586 - accuracy: 0.9902\n",
      "Epoch 50/100\n",
      "146/146 [==============================] - 15s 99ms/step - loss: 0.0427 - accuracy: 0.9942\n",
      "Epoch 51/100\n",
      "146/146 [==============================] - 15s 99ms/step - loss: 0.0399 - accuracy: 0.9945\n",
      "Epoch 52/100\n",
      "146/146 [==============================] - 15s 102ms/step - loss: 0.0568 - accuracy: 0.9931\n",
      "Epoch 53/100\n",
      "146/146 [==============================] - 16s 108ms/step - loss: 0.0346 - accuracy: 0.9962\n",
      "Epoch 54/100\n",
      "146/146 [==============================] - 15s 100ms/step - loss: 0.0542 - accuracy: 0.9946\n",
      "Epoch 55/100\n",
      "146/146 [==============================] - 14s 92ms/step - loss: 0.0425 - accuracy: 0.9943\n",
      "Epoch 56/100\n",
      "146/146 [==============================] - 14s 98ms/step - loss: 0.0470 - accuracy: 0.9931\n",
      "Epoch 57/100\n",
      "146/146 [==============================] - 15s 105ms/step - loss: 0.0341 - accuracy: 0.9961\n",
      "Epoch 58/100\n",
      "146/146 [==============================] - 14s 94ms/step - loss: 0.0393 - accuracy: 0.9968\n",
      "Epoch 59/100\n",
      "146/146 [==============================] - 13s 90ms/step - loss: 0.0644 - accuracy: 0.9884\n",
      "Epoch 60/100\n",
      "146/146 [==============================] - 16s 106ms/step - loss: 0.0873 - accuracy: 0.9882\n",
      "Epoch 61/100\n",
      "146/146 [==============================] - 17s 113ms/step - loss: 0.0443 - accuracy: 0.9943\n",
      "Epoch 62/100\n",
      "146/146 [==============================] - 14s 98ms/step - loss: 0.0493 - accuracy: 0.9927\n",
      "Epoch 63/100\n",
      "146/146 [==============================] - 14s 98ms/step - loss: 0.0430 - accuracy: 0.9948\n",
      "Epoch 64/100\n",
      "146/146 [==============================] - 13s 86ms/step - loss: 0.0462 - accuracy: 0.9926\n",
      "Epoch 65/100\n",
      "146/146 [==============================] - 13s 89ms/step - loss: 0.0418 - accuracy: 0.9957\n",
      "Epoch 66/100\n",
      "146/146 [==============================] - 14s 93ms/step - loss: 0.0398 - accuracy: 0.9956\n",
      "Epoch 67/100\n",
      "146/146 [==============================] - 14s 95ms/step - loss: 0.0675 - accuracy: 0.9936\n",
      "Epoch 68/100\n",
      "146/146 [==============================] - 15s 104ms/step - loss: 0.0492 - accuracy: 0.9937\n",
      "Epoch 69/100\n",
      "146/146 [==============================] - 17s 114ms/step - loss: 0.0382 - accuracy: 0.9959\n",
      "Epoch 70/100\n",
      "146/146 [==============================] - 16s 108ms/step - loss: 0.0384 - accuracy: 0.9947\n",
      "Epoch 71/100\n",
      "146/146 [==============================] - 15s 101ms/step - loss: 0.0472 - accuracy: 0.9928\n",
      "Epoch 72/100\n",
      "146/146 [==============================] - 14s 94ms/step - loss: 0.0619 - accuracy: 0.9926\n",
      "Epoch 73/100\n",
      "146/146 [==============================] - 14s 93ms/step - loss: 0.0703 - accuracy: 0.9920\n",
      "Epoch 74/100\n",
      "146/146 [==============================] - 14s 96ms/step - loss: 0.0453 - accuracy: 0.9931\n",
      "Epoch 75/100\n",
      "146/146 [==============================] - 14s 96ms/step - loss: 0.0511 - accuracy: 0.9948\n",
      "Epoch 76/100\n",
      "146/146 [==============================] - 14s 94ms/step - loss: 0.0512 - accuracy: 0.9912\n",
      "Epoch 77/100\n",
      "146/146 [==============================] - 16s 106ms/step - loss: 0.0491 - accuracy: 0.9938\n",
      "Epoch 78/100\n",
      "146/146 [==============================] - 16s 106ms/step - loss: 0.0456 - accuracy: 0.9932\n",
      "Epoch 79/100\n"
     ]
    },
    {
     "name": "stdout",
     "output_type": "stream",
     "text": [
      "146/146 [==============================] - 14s 96ms/step - loss: 0.0387 - accuracy: 0.9952\n",
      "Epoch 80/100\n",
      "146/146 [==============================] - 14s 92ms/step - loss: 0.0489 - accuracy: 0.9958\n",
      "Epoch 81/100\n",
      "146/146 [==============================] - 14s 93ms/step - loss: 0.0528 - accuracy: 0.9906\n",
      "Epoch 82/100\n",
      "146/146 [==============================] - 14s 93ms/step - loss: 0.0587 - accuracy: 0.9907\n",
      "Epoch 83/100\n",
      "146/146 [==============================] - 13s 89ms/step - loss: 0.0604 - accuracy: 0.9928\n",
      "Epoch 84/100\n",
      "146/146 [==============================] - 14s 93ms/step - loss: 0.0430 - accuracy: 0.9957\n",
      "Epoch 85/100\n",
      "146/146 [==============================] - 15s 102ms/step - loss: 0.0397 - accuracy: 0.9954\n",
      "Epoch 86/100\n",
      "146/146 [==============================] - 15s 105ms/step - loss: 0.0465 - accuracy: 0.9929\n",
      "Epoch 87/100\n",
      "146/146 [==============================] - 13s 86ms/step - loss: 0.0353 - accuracy: 0.9971\n",
      "Epoch 88/100\n",
      "146/146 [==============================] - 14s 95ms/step - loss: 0.0319 - accuracy: 0.9965\n",
      "Epoch 89/100\n",
      "146/146 [==============================] - 14s 98ms/step - loss: 0.0440 - accuracy: 0.9926\n",
      "Epoch 90/100\n",
      "146/146 [==============================] - 16s 106ms/step - loss: 0.0480 - accuracy: 0.9910\n",
      "Epoch 91/100\n",
      "146/146 [==============================] - 15s 103ms/step - loss: 0.0370 - accuracy: 0.9958\n",
      "Epoch 92/100\n",
      "146/146 [==============================] - 14s 96ms/step - loss: 0.0316 - accuracy: 0.9976\n",
      "Epoch 93/100\n",
      "146/146 [==============================] - 16s 106ms/step - loss: 0.0297 - accuracy: 0.9992\n",
      "Epoch 94/100\n",
      "146/146 [==============================] - 17s 119ms/step - loss: 0.0437 - accuracy: 0.9936\n",
      "Epoch 95/100\n",
      "146/146 [==============================] - 15s 101ms/step - loss: 0.0355 - accuracy: 0.9961\n",
      "Epoch 96/100\n",
      "146/146 [==============================] - 13s 88ms/step - loss: 0.0392 - accuracy: 0.9956\n",
      "Epoch 97/100\n",
      "146/146 [==============================] - 13s 87ms/step - loss: 0.0333 - accuracy: 0.9976\n",
      "Epoch 98/100\n",
      "146/146 [==============================] - 14s 95ms/step - loss: 0.0382 - accuracy: 0.9946\n",
      "Epoch 99/100\n",
      "146/146 [==============================] - 17s 113ms/step - loss: 0.0360 - accuracy: 0.9973\n",
      "Epoch 100/100\n",
      "146/146 [==============================] - 15s 102ms/step - loss: 0.0332 - accuracy: 0.9966\n"
     ]
    },
    {
     "data": {
      "text/plain": [
       "<tensorflow.python.keras.callbacks.History at 0x7f2ce32b1310>"
      ]
     },
     "execution_count": 5,
     "metadata": {},
     "output_type": "execute_result"
    }
   ],
   "source": [
    "\n",
    "model.compile(optimizer='adam', \n",
    "              loss='categorical_crossentropy', \n",
    "              metrics=['accuracy'])\n",
    "model.fit(train_it,epochs=100,shuffle=False)"
   ]
  },
  {
   "cell_type": "code",
   "execution_count": 6,
   "metadata": {},
   "outputs": [
    {
     "name": "stdout",
     "output_type": "stream",
     "text": [
      "17/17 [==============================] - 1s 32ms/step - loss: 0.0578 - accuracy: 0.9942\n"
     ]
    },
    {
     "data": {
      "text/plain": [
       "[0.05775518715381622, 0.9941860437393188]"
      ]
     },
     "execution_count": 6,
     "metadata": {},
     "output_type": "execute_result"
    }
   ],
   "source": [
    "model.evaluate(test_it)\n"
   ]
  },
  {
   "cell_type": "code",
   "execution_count": 8,
   "metadata": {},
   "outputs": [
    {
     "name": "stdout",
     "output_type": "stream",
     "text": [
      "(28, 28, 1)\n",
      "(1, 28, 28, 1)\n"
     ]
    },
    {
     "data": {
      "text/plain": [
       "array([[5.1473631e-13, 3.1279470e-07, 5.0306721e-07, 6.4281544e-08,\n",
       "        1.0203481e-08, 1.3137275e-06, 3.2471488e-18, 9.9998331e-01,\n",
       "        1.4372503e-05]], dtype=float32)"
      ]
     },
     "execution_count": 8,
     "metadata": {},
     "output_type": "execute_result"
    },
    {
     "data": {
      "image/png": "[encoded data removed]",
      "text/plain": [
       "<Figure size 432x288 with 1 Axes>"
      ]
     },
     "metadata": {
      "needs_background": "light"
     },
     "output_type": "display_data"
    }
   ],
   "source": [
    "plt.imshow(batchX_test[1])\n",
    "print(batchX_test[1].shape)\n",
    "y = batchX_test[1].reshape(1,28,28,1)\n",
    "print(y.shape)\n",
    "#batchX_test[1]=batchX_test[1].reshape(1,28,28,1)\n",
    "model.predict(y)"
   ]
  },
  {
   "cell_type": "code",
   "execution_count": null,
   "metadata": {},
   "outputs": [],
   "source": []
  },
  {
   "cell_type": "code",
   "execution_count": 9,
   "metadata": {},
   "outputs": [],
   "source": [
    "\n",
    "\n",
    "model.save(\"epoch100_white_28.h5\")"
   ]
  },
  {
   "cell_type": "code",
   "execution_count": null,
   "metadata": {},
   "outputs": [],
   "source": [
    "??datagen.flow_from_directory"
   ]
  },
  {
   "cell_type": "code",
   "execution_count": null,
   "metadata": {},
   "outputs": [],
   "source": [
    "#model = keras.models.load_model('big_epoch_dhruv.h5')"
   ]
  },
  {
   "cell_type": "code",
   "execution_count": 10,
   "metadata": {},
   "outputs": [],
   "source": [
    "import cv2\n",
    "img=cv2.imread('Debug/Numbers/grid_88.png',0)"
   ]
  },
  {
   "cell_type": "code",
   "execution_count": 11,
   "metadata": {},
   "outputs": [
    {
     "name": "stdout",
     "output_type": "stream",
     "text": [
      "(27, 17)\n"
     ]
    },
    {
     "data": {
      "image/png": "[encoded data removed]",
      "text/plain": [
       "<Figure size 432x288 with 1 Axes>"
      ]
     },
     "metadata": {
      "needs_background": "light"
     },
     "output_type": "display_data"
    }
   ],
   "source": [
    "plt.imshow(img)\n",
    "print(img.shape)"
   ]
  },
  {
   "cell_type": "code",
   "execution_count": 12,
   "metadata": {},
   "outputs": [
    {
     "name": "stdout",
     "output_type": "stream",
     "text": [
      "(28, 28)\n"
     ]
    },
    {
     "data": {
      "text/plain": [
       "array([[1.5375952e-14, 1.3900867e-15, 1.9742715e-16, 8.7600105e-09,\n",
       "        6.2936047e-06, 9.9999368e-01, 1.5566376e-17, 6.5272462e-12,\n",
       "        3.3790389e-08]], dtype=float32)"
      ]
     },
     "execution_count": 12,
     "metadata": {},
     "output_type": "execute_result"
    },
    {
     "data": {
      "image/png": "[encoded data removed]",
      "text/plain": [
       "<Figure size 432x288 with 1 Axes>"
      ]
     },
     "metadata": {
      "needs_background": "light"
     },
     "output_type": "display_data"
    }
   ],
   "source": [
    "img = cv2.resize(img, (28, 28),interpolation = cv2.INTER_NEAREST)\n",
    "print(img.shape)\n",
    "plt.imshow(img)\n",
    "img=img.reshape(1,28,28,1)\n",
    "model.predict(img)"
   ]
  },
  {
   "cell_type": "code",
   "execution_count": null,
   "metadata": {},
   "outputs": [],
   "source": []
  }
 ],
 "metadata": {
  "kernelspec": {
   "display_name": "Python 3",
   "language": "python",
   "name": "python3"
  },
  "language_info": {
   "codemirror_mode": {
    "name": "ipython",
    "version": 3
   },
   "file_extension": ".py",
   "mimetype": "text/x-python",
   "name": "python",
   "nbconvert_exporter": "python",
   "pygments_lexer": "ipython3",
   "version": "3.7.10"
  }
 },
 "nbformat": 4,
 "nbformat_minor": 4
}
