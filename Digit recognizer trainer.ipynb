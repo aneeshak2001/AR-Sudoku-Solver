{
 "cells": [
  {
   "cell_type": "code",
   "execution_count": 1,
   "metadata": {
    "scrolled": true
   },
   "outputs": [
    {
     "name": "stdout",
     "output_type": "stream",
     "text": [
      "Found 4641 images belonging to 9 classes.\n",
      "Found 516 images belonging to 9 classes.\n",
      "Batch shape=(32, 28, 28, 1), min=0.000, max=255.000\n"
     ]
    }
   ],
   "source": [
    "# Importing the required Keras modules containing model and layers\n",
    "from tensorflow.keras.models import Sequential\n",
    "from tensorflow.keras.layers import Dense, Conv2D, Dropout, Flatten, MaxPooling2D\n",
    "from tensorflow.keras import regularizers\n",
    "from tensorflow import keras\n",
    "\n",
    "from tensorflow.keras.preprocessing.image import ImageDataGenerator\n",
    "# create generator\n",
    "datagen = ImageDataGenerator()\n",
    "\n",
    "train_it = datagen.flow_from_directory('Model/training_data/', class_mode='categorical',target_size=(28, 28),color_mode='grayscale',batch_size=32,shuffle=True,seed=0)\n",
    "test_it =  datagen.flow_from_directory('Model/testing_data/', class_mode='categorical',target_size=(28, 28),color_mode='grayscale', batch_size=32,shuffle=True,seed=0)\n",
    "# confirm the iterator works\n",
    "batchX, batchy = train_it.next()\n",
    "\n",
    "batchX_test, batchy_test = test_it.next()\n",
    "print('Batch shape=%s, min=%.3f, max=%.3f' % (batchX.shape, batchX.min(), batchX.max()))"
   ]
  },
  {
   "cell_type": "code",
   "execution_count": 2,
   "metadata": {},
   "outputs": [],
   "source": [
    "import tensorflow as tf\n",
    "#(x_train, y_train), (x_test, y_test) = tf.keras.datasets.mnist.load_data()\n",
    "import matplotlib.pyplot as plt\n",
    "import matplotlib.image as mpimg\n",
    "\n",
    "# Reshaping the array to 4-dims so that it can work with the Keras API\n",
    "#x_train = x_train.reshape(x_train.shape[0], 28, 28, 1)\n",
    "#x_test = x_test.reshape(x_test.shape[0], 28, 28, 1)\n",
    "#input_shape = (28, 28, 1)\n",
    "\n",
    "# Making sure that the values are float so that we can get decimal points after division\n",
    "#x_train = x_train.astype('float32')\n",
    "#x_test = x_test.astype('float32')\n",
    "\n",
    "# Normalizing the RGB codes by dividing it to the max RGB value.\n",
    "#x_train /= 255\n",
    "#x_test /= 255\n",
    "#??flow_from_directory"
   ]
  },
  {
   "cell_type": "code",
   "execution_count": 3,
   "metadata": {},
   "outputs": [
    {
     "name": "stdout",
     "output_type": "stream",
     "text": [
      "[0. 0. 1. 0. 0. 0. 0. 0. 0.]\n"
     ]
    },
    {
     "data": {
      "image/png": "[encoded data removed]",
      "text/plain": [
       "<Figure size 432x288 with 1 Axes>"
      ]
     },
     "metadata": {
      "needs_background": "light"
     },
     "output_type": "display_data"
    }
   ],
   "source": [
    "plt.imshow(batchX[12])\n",
    "print(batchy[12])"
   ]
  },
  {
   "cell_type": "code",
   "execution_count": null,
   "metadata": {},
   "outputs": [],
   "source": [
    "'''# Creating a Sequential Model and adding the layers\n",
    "\n",
    "model = Sequential()\n",
    "model.add(Conv2D(32, (3, 3), activation='relu', kernel_initializer='he_uniform', input_shape=(28, 28, 1)))\n",
    "\n",
    "model.add(MaxPooling2D((2, 2)))\n",
    "model.add(Conv2D(64, (3, 3), activation='relu', kernel_initializer='he_uniform'))\n",
    "model.add(Conv2D(64, (3, 3), activation='relu', kernel_initializer='he_uniform'))\n",
    "model.add(MaxPooling2D((2, 2)))\n",
    "model.add(Flatten())\n",
    "model.add(Dense(50, activation='relu', kernel_initializer='he_uniform'))\n",
    "model.add(Dense(9, activation='softmax'))'''"
   ]
  },
  {
   "cell_type": "code",
   "execution_count": 4,
   "metadata": {},
   "outputs": [],
   "source": [
    "model = Sequential([\n",
    "    Conv2D(16, 3, \n",
    "           padding='same',\n",
    "           activation='relu',\n",
    "           kernel_regularizer=regularizers.l2(0.0001),\n",
    "           input_shape=(28, 28 , 1)),\n",
    "    MaxPooling2D(),\n",
    "    Dropout(0.2),\n",
    "    Flatten(),\n",
    "    Dense(\n",
    "        100,\n",
    "        activation='relu',\n",
    "        kernel_regularizer=regularizers.l2(0.0001)\n",
    "    ),\n",
    "    Dropout(0.2),\n",
    "    Dense(9, activation='softmax')\n",
    "])"
   ]
  },
  {
   "cell_type": "code",
   "execution_count": 5,
   "metadata": {},
   "outputs": [
    {
     "name": "stdout",
     "output_type": "stream",
     "text": [
      "Epoch 1/100\n",
      "146/146 [==============================] - 14s 89ms/step - loss: 14.1787 - accuracy: 0.6918\n",
      "Epoch 2/100\n",
      "146/146 [==============================] - 12s 81ms/step - loss: 0.6873 - accuracy: 0.8854\n",
      "Epoch 3/100\n",
      "146/146 [==============================] - 13s 86ms/step - loss: 0.2926 - accuracy: 0.9345\n",
      "Epoch 4/100\n",
      "146/146 [==============================] - 13s 88ms/step - loss: 0.1914 - accuracy: 0.9559\n",
      "Epoch 5/100\n",
      "146/146 [==============================] - 11s 73ms/step - loss: 0.1733 - accuracy: 0.9657\n",
      "Epoch 6/100\n",
      "146/146 [==============================] - 12s 85ms/step - loss: 0.1301 - accuracy: 0.9711\n",
      "Epoch 7/100\n",
      "146/146 [==============================] - 14s 93ms/step - loss: 0.1215 - accuracy: 0.9745\n",
      "Epoch 8/100\n",
      "146/146 [==============================] - 13s 90ms/step - loss: 0.1000 - accuracy: 0.9747\n",
      "Epoch 9/100\n",
      "146/146 [==============================] - 14s 95ms/step - loss: 0.0952 - accuracy: 0.9816\n",
      "Epoch 10/100\n",
      "146/146 [==============================] - 15s 102ms/step - loss: 0.3098 - accuracy: 0.9632\n",
      "Epoch 11/100\n",
      "146/146 [==============================] - 14s 97ms/step - loss: 0.0907 - accuracy: 0.9801\n",
      "Epoch 12/100\n",
      "146/146 [==============================] - 17s 118ms/step - loss: 0.0681 - accuracy: 0.9826\n",
      "Epoch 13/100\n",
      "146/146 [==============================] - 19s 130ms/step - loss: 0.0888 - accuracy: 0.9859\n",
      "Epoch 14/100\n",
      "146/146 [==============================] - 18s 120ms/step - loss: 0.0822 - accuracy: 0.9830\n",
      "Epoch 15/100\n",
      "146/146 [==============================] - 17s 115ms/step - loss: 0.0696 - accuracy: 0.9905\n",
      "Epoch 16/100\n",
      "146/146 [==============================] - 18s 121ms/step - loss: 0.0638 - accuracy: 0.9927\n",
      "Epoch 17/100\n",
      "146/146 [==============================] - 20s 137ms/step - loss: 0.0713 - accuracy: 0.9875\n",
      "Epoch 18/100\n",
      "146/146 [==============================] - 17s 117ms/step - loss: 0.0480 - accuracy: 0.9891\n",
      "Epoch 19/100\n",
      "146/146 [==============================] - 13s 90ms/step - loss: 0.0621 - accuracy: 0.9924\n",
      "Epoch 20/100\n",
      "146/146 [==============================] - 14s 92ms/step - loss: 0.0659 - accuracy: 0.9924\n",
      "Epoch 21/100\n",
      "146/146 [==============================] - 12s 83ms/step - loss: 0.0527 - accuracy: 0.9937\n",
      "Epoch 22/100\n",
      "146/146 [==============================] - 15s 105ms/step - loss: 0.0586 - accuracy: 0.9938\n",
      "Epoch 23/100\n",
      "146/146 [==============================] - 14s 97ms/step - loss: 0.0471 - accuracy: 0.9925\n",
      "Epoch 24/100\n",
      "146/146 [==============================] - 14s 93ms/step - loss: 0.0359 - accuracy: 0.9974\n",
      "Epoch 25/100\n",
      "146/146 [==============================] - 15s 101ms/step - loss: 0.0382 - accuracy: 0.9953\n",
      "Epoch 26/100\n",
      "146/146 [==============================] - 14s 96ms/step - loss: 0.0382 - accuracy: 0.9966\n",
      "Epoch 27/100\n",
      "146/146 [==============================] - 14s 93ms/step - loss: 0.0503 - accuracy: 0.9926\n",
      "Epoch 28/100\n",
      "146/146 [==============================] - 14s 94ms/step - loss: 0.0380 - accuracy: 0.9970\n",
      "Epoch 29/100\n",
      "146/146 [==============================] - 16s 107ms/step - loss: 0.0458 - accuracy: 0.9942\n",
      "Epoch 30/100\n",
      "146/146 [==============================] - 16s 112ms/step - loss: 0.0334 - accuracy: 0.9976\n",
      "Epoch 31/100\n",
      "146/146 [==============================] - 15s 99ms/step - loss: 0.0412 - accuracy: 0.9946\n",
      "Epoch 32/100\n",
      "146/146 [==============================] - 14s 98ms/step - loss: 0.0458 - accuracy: 0.9945\n",
      "Epoch 33/100\n",
      "146/146 [==============================] - 15s 100ms/step - loss: 0.0382 - accuracy: 0.9953\n",
      "Epoch 34/100\n",
      "146/146 [==============================] - 16s 106ms/step - loss: 0.0530 - accuracy: 0.9941\n",
      "Epoch 35/100\n",
      "146/146 [==============================] - 13s 91ms/step - loss: 0.0304 - accuracy: 0.9974\n",
      "Epoch 36/100\n",
      "146/146 [==============================] - 13s 86ms/step - loss: 0.0325 - accuracy: 0.9963\n",
      "Epoch 37/100\n",
      "146/146 [==============================] - 13s 92ms/step - loss: 0.0497 - accuracy: 0.9944\n",
      "Epoch 38/100\n",
      "146/146 [==============================] - 12s 85ms/step - loss: 0.0520 - accuracy: 0.9937\n",
      "Epoch 39/100\n",
      "146/146 [==============================] - 14s 93ms/step - loss: 0.0569 - accuracy: 0.9943\n",
      "Epoch 40/100\n",
      "146/146 [==============================] - 12s 82ms/step - loss: 0.0433 - accuracy: 0.9953\n",
      "Epoch 41/100\n",
      "146/146 [==============================] - 12s 82ms/step - loss: 0.0425 - accuracy: 0.9951\n",
      "Epoch 42/100\n",
      "146/146 [==============================] - 12s 84ms/step - loss: 0.0278 - accuracy: 0.9995\n",
      "Epoch 43/100\n",
      "146/146 [==============================] - 16s 110ms/step - loss: 0.0396 - accuracy: 0.9974\n",
      "Epoch 44/100\n",
      "146/146 [==============================] - 13s 91ms/step - loss: 0.0501 - accuracy: 0.9965\n",
      "Epoch 45/100\n",
      "146/146 [==============================] - 12s 81ms/step - loss: 0.0347 - accuracy: 0.9968\n",
      "Epoch 46/100\n",
      "146/146 [==============================] - 14s 93ms/step - loss: 0.0306 - accuracy: 0.9992\n",
      "Epoch 47/100\n",
      "146/146 [==============================] - 14s 98ms/step - loss: 0.0385 - accuracy: 0.9974\n",
      "Epoch 48/100\n",
      "146/146 [==============================] - 13s 90ms/step - loss: 0.0362 - accuracy: 0.9986\n",
      "Epoch 49/100\n",
      "146/146 [==============================] - 14s 94ms/step - loss: 0.0291 - accuracy: 0.9993\n",
      "Epoch 50/100\n",
      "146/146 [==============================] - 13s 85ms/step - loss: 0.0316 - accuracy: 0.9983\n",
      "Epoch 51/100\n",
      "146/146 [==============================] - 13s 87ms/step - loss: 0.0307 - accuracy: 0.9983\n",
      "Epoch 52/100\n",
      "146/146 [==============================] - 15s 103ms/step - loss: 0.0354 - accuracy: 0.9976\n",
      "Epoch 53/100\n",
      "146/146 [==============================] - 13s 89ms/step - loss: 0.0391 - accuracy: 0.9979\n",
      "Epoch 54/100\n",
      "146/146 [==============================] - 12s 81ms/step - loss: 0.0307 - accuracy: 0.9985\n",
      "Epoch 55/100\n",
      "146/146 [==============================] - 13s 86ms/step - loss: 0.0335 - accuracy: 0.9985\n",
      "Epoch 56/100\n",
      "146/146 [==============================] - 12s 84ms/step - loss: 0.0311 - accuracy: 0.9987\n",
      "Epoch 57/100\n",
      "146/146 [==============================] - 12s 84ms/step - loss: 0.0430 - accuracy: 0.9966\n",
      "Epoch 58/100\n",
      "146/146 [==============================] - 14s 95ms/step - loss: 0.0315 - accuracy: 0.9987\n",
      "Epoch 59/100\n",
      "146/146 [==============================] - 12s 83ms/step - loss: 0.0451 - accuracy: 0.9958\n",
      "Epoch 60/100\n",
      "146/146 [==============================] - 14s 95ms/step - loss: 0.0325 - accuracy: 0.9984\n",
      "Epoch 61/100\n",
      "146/146 [==============================] - 16s 111ms/step - loss: 0.0379 - accuracy: 0.9970\n",
      "Epoch 62/100\n",
      "146/146 [==============================] - 13s 91ms/step - loss: 0.0493 - accuracy: 0.9953\n",
      "Epoch 63/100\n",
      "146/146 [==============================] - 14s 97ms/step - loss: 0.0537 - accuracy: 0.9959\n",
      "Epoch 64/100\n",
      "146/146 [==============================] - 14s 97ms/step - loss: 0.0345 - accuracy: 0.9984\n",
      "Epoch 65/100\n",
      "146/146 [==============================] - 14s 93ms/step - loss: 0.0442 - accuracy: 0.9945\n",
      "Epoch 66/100\n",
      "146/146 [==============================] - 15s 104ms/step - loss: 0.0461 - accuracy: 0.9963\n",
      "Epoch 67/100\n",
      "146/146 [==============================] - 17s 118ms/step - loss: 0.0338 - accuracy: 0.9982\n",
      "Epoch 68/100\n",
      "146/146 [==============================] - 16s 109ms/step - loss: 0.0366 - accuracy: 0.9977\n",
      "Epoch 69/100\n",
      "146/146 [==============================] - 19s 129ms/step - loss: 0.0418 - accuracy: 0.9983\n",
      "Epoch 70/100\n",
      "146/146 [==============================] - 16s 107ms/step - loss: 0.0629 - accuracy: 0.9946\n",
      "Epoch 71/100\n",
      "146/146 [==============================] - 16s 111ms/step - loss: 0.0405 - accuracy: 0.9977\n",
      "Epoch 72/100\n",
      "146/146 [==============================] - 17s 115ms/step - loss: 0.0392 - accuracy: 0.9982\n",
      "Epoch 73/100\n",
      "146/146 [==============================] - 15s 104ms/step - loss: 0.0331 - accuracy: 0.9984\n",
      "Epoch 74/100\n",
      "146/146 [==============================] - 16s 109ms/step - loss: 0.0366 - accuracy: 0.9979\n",
      "Epoch 75/100\n",
      "146/146 [==============================] - 17s 119ms/step - loss: 0.0411 - accuracy: 0.9973\n",
      "Epoch 76/100\n",
      "146/146 [==============================] - 19s 128ms/step - loss: 0.0323 - accuracy: 0.9990\n",
      "Epoch 77/100\n",
      "146/146 [==============================] - 16s 112ms/step - loss: 0.0382 - accuracy: 0.9972\n",
      "Epoch 78/100\n",
      "146/146 [==============================] - 17s 118ms/step - loss: 0.0434 - accuracy: 0.9965\n",
      "Epoch 79/100\n"
     ]
    },
    {
     "name": "stdout",
     "output_type": "stream",
     "text": [
      "146/146 [==============================] - 17s 118ms/step - loss: 0.0384 - accuracy: 0.9975\n",
      "Epoch 80/100\n",
      "146/146 [==============================] - 16s 109ms/step - loss: 0.0297 - accuracy: 0.9993\n",
      "Epoch 81/100\n",
      "146/146 [==============================] - 18s 121ms/step - loss: 0.0371 - accuracy: 0.9980\n",
      "Epoch 82/100\n",
      "146/146 [==============================] - 18s 126ms/step - loss: 0.0290 - accuracy: 0.9986\n",
      "Epoch 83/100\n",
      "146/146 [==============================] - 18s 122ms/step - loss: 0.0271 - accuracy: 0.9998\n",
      "Epoch 84/100\n",
      "146/146 [==============================] - 16s 111ms/step - loss: 0.0310 - accuracy: 0.9986\n",
      "Epoch 85/100\n",
      "146/146 [==============================] - 16s 113ms/step - loss: 0.0287 - accuracy: 0.9990\n",
      "Epoch 86/100\n",
      "146/146 [==============================] - 18s 122ms/step - loss: 0.0294 - accuracy: 0.9984\n",
      "Epoch 87/100\n",
      "146/146 [==============================] - 17s 112ms/step - loss: 0.0323 - accuracy: 0.9968\n",
      "Epoch 88/100\n",
      "146/146 [==============================] - 16s 108ms/step - loss: 0.0303 - accuracy: 0.9979\n",
      "Epoch 89/100\n",
      "146/146 [==============================] - 12s 85ms/step - loss: 0.0278 - accuracy: 0.9987\n",
      "Epoch 90/100\n",
      "146/146 [==============================] - 15s 101ms/step - loss: 0.0522 - accuracy: 0.9942\n",
      "Epoch 91/100\n",
      "146/146 [==============================] - 15s 102ms/step - loss: 0.0342 - accuracy: 0.9962\n",
      "Epoch 92/100\n",
      "146/146 [==============================] - 12s 84ms/step - loss: 0.0335 - accuracy: 0.9988\n",
      "Epoch 93/100\n",
      "146/146 [==============================] - 14s 92ms/step - loss: 0.0331 - accuracy: 0.9985\n",
      "Epoch 94/100\n",
      "146/146 [==============================] - 13s 86ms/step - loss: 0.0283 - accuracy: 0.9989\n",
      "Epoch 95/100\n",
      "146/146 [==============================] - 12s 81ms/step - loss: 0.0442 - accuracy: 0.9978\n",
      "Epoch 96/100\n",
      "146/146 [==============================] - 13s 88ms/step - loss: 0.0360 - accuracy: 0.9979\n",
      "Epoch 97/100\n",
      "146/146 [==============================] - 13s 86ms/step - loss: 0.0332 - accuracy: 0.9986\n",
      "Epoch 98/100\n",
      "146/146 [==============================] - 13s 86ms/step - loss: 0.0333 - accuracy: 0.9978\n",
      "Epoch 99/100\n",
      "146/146 [==============================] - 15s 100ms/step - loss: 0.0485 - accuracy: 0.9948\n",
      "Epoch 100/100\n",
      "146/146 [==============================] - 16s 109ms/step - loss: 0.0344 - accuracy: 0.9988\n"
     ]
    },
    {
     "data": {
      "text/plain": [
       "<tensorflow.python.keras.callbacks.History at 0x7f172d195b10>"
      ]
     },
     "execution_count": 5,
     "metadata": {},
     "output_type": "execute_result"
    }
   ],
   "source": [
    "\n",
    "model.compile(optimizer='adam', \n",
    "              loss='categorical_crossentropy', \n",
    "              metrics=['accuracy'])\n",
    "model.fit(train_it,epochs=100,shuffle=False)"
   ]
  },
  {
   "cell_type": "code",
   "execution_count": 6,
   "metadata": {},
   "outputs": [
    {
     "name": "stdout",
     "output_type": "stream",
     "text": [
      "17/17 [==============================] - 0s 14ms/step - loss: 0.0692 - accuracy: 0.9942\n"
     ]
    },
    {
     "data": {
      "text/plain": [
       "[0.0692107230424881, 0.9941860437393188]"
      ]
     },
     "execution_count": 6,
     "metadata": {},
     "output_type": "execute_result"
    }
   ],
   "source": [
    "model.evaluate(test_it)\n"
   ]
  },
  {
   "cell_type": "code",
   "execution_count": 7,
   "metadata": {},
   "outputs": [
    {
     "name": "stdout",
     "output_type": "stream",
     "text": [
      "(28, 28, 1)\n",
      "(1, 28, 28, 1)\n"
     ]
    },
    {
     "data": {
      "text/plain": [
       "array([[3.2679465e-16, 6.5867959e-15, 9.4940621e-17, 2.2842148e-13,\n",
       "        3.1920186e-20, 1.2022881e-16, 7.5231229e-25, 1.0000000e+00,\n",
       "        1.3777193e-10]], dtype=float32)"
      ]
     },
     "execution_count": 7,
     "metadata": {},
     "output_type": "execute_result"
    },
    {
     "data": {
      "image/png": "[encoded data removed]",
      "text/plain": [
       "<Figure size 432x288 with 1 Axes>"
      ]
     },
     "metadata": {
      "needs_background": "light"
     },
     "output_type": "display_data"
    }
   ],
   "source": [
    "plt.imshow(batchX_test[1])\n",
    "print(batchX_test[1].shape)\n",
    "y = batchX_test[1].reshape(1,28,28,1)\n",
    "print(y.shape)\n",
    "#batchX_test[1]=batchX_test[1].reshape(1,28,28,1)\n",
    "model.predict(y)"
   ]
  },
  {
   "cell_type": "code",
   "execution_count": 8,
   "metadata": {},
   "outputs": [],
   "source": [
    "\n",
    "model.save(\"Model/model.h5\")"
   ]
  },
  {
   "cell_type": "code",
   "execution_count": null,
   "metadata": {},
   "outputs": [],
   "source": []
  }
 ],
 "metadata": {
  "kernelspec": {
   "display_name": "Python 3",
   "language": "python",
   "name": "python3"
  },
  "language_info": {
   "codemirror_mode": {
    "name": "ipython",
    "version": 3
   },
   "file_extension": ".py",
   "mimetype": "text/x-python",
   "name": "python",
   "nbconvert_exporter": "python",
   "pygments_lexer": "ipython3",
   "version": "3.7.10"
  }
 },
 "nbformat": 4,
 "nbformat_minor": 4
}
